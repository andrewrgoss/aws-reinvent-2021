{
 "cells": [
  {
   "cell_type": "markdown",
   "id": "b202246c",
   "metadata": {},
   "source": [
    "# Data Science and DataOps workflows with Amazon EMR Studio Workshop\n",
    "\n",
    "Hello! And welcome to the re:Invent 2021 Data Science and DataOps workflows with Amazon EMR Studio Workshop.\n",
    "\n",
    "In this workshop, you will learn\n",
    "1. **How to use PySpark in EMR Studio to write and schedule some basic ETL**\n",
    "2. Utilize the prepared data for some data analysis and visualization\n",
    "3. How to deploy your work to a publicly-hosted CloudFront website\n",
    "\n",
    "## Part 1 - Data Exploration\n",
    "\n",
    "First, what are we going to do? Well the Registry of Open Data has many datasets to choose from, but today we're going to use the [NOAA Global Surface Summary of Day](https://registry.opendata.aws/noaa-gsod/) (GSOD) dataset to do some basic climate analysis. Go ahead and take a look at the link to get an idea of the elements in the dataset.\n",
    "\n",
    "Have you ever wondered what temperature trends look like month over month? Or even year over year? Using the NOAA GSOD dataset, we can analyze weather for over 9,000 weather stations across the globe. But the data is in CSV format has about 10,000 files for each year.\n",
    "\n",
    "## Step 1 - Exploration\n",
    "\n",
    "First, let's explore the data on the bucket. The bucket name is `noaa-gsod-pds` and each year of weather data, back to 1929, is stored in a prefix by year."
   ]
  },
  {
   "cell_type": "code",
   "execution_count": 1,
   "id": "8bdc48bb",
   "metadata": {},
   "outputs": [
    {
     "data": {
      "application/vnd.jupyter.widget-view+json": {
       "model_id": "3ed7dd98bc1349a38db41466894ae82f",
       "version_major": 2,
       "version_minor": 0
      },
      "text/plain": [
       "VBox()"
      ]
     },
     "metadata": {},
     "output_type": "display_data"
    },
    {
     "name": "stdout",
     "output_type": "stream",
     "text": [
      "Starting Spark application\n"
     ]
    },
    {
     "data": {
      "text/html": [
       "<table>\n<tbody><tr><th>ID</th><th>YARN Application ID</th><th>Kind</th><th>State</th><th>Spark UI</th><th>Driver log</th><th>Current session?</th></tr><tr><td>0</td><td>application_1638389066788_0001</td><td>pyspark</td><td>idle</td><td><a target=\"_blank\" href=\"http://ip-10-0-10-52.us-east-2.compute.internal:20888/proxy/application_1638389066788_0001/\" class=\"emr-proxy-link j-3HSRJOETD8G4F application_1638389066788_0001\" emr-resource=\"j-3HSRJOETD8G4F\n\" application-id=\"application_1638389066788_0001\">Link</a></td><td><a target=\"_blank\" href=\"http://ip-10-0-10-253.us-east-2.compute.internal:8042/node/containerlogs/container_1638389066788_0001_01_000001/livy\">Link</a></td><td>✔</td></tr></tbody></table>"
      ],
      "text/plain": [
       "<IPython.core.display.HTML object>"
      ]
     },
     "metadata": {},
     "output_type": "display_data"
    },
    {
     "data": {
      "application/vnd.jupyter.widget-view+json": {
       "model_id": "",
       "version_major": 2,
       "version_minor": 0
      },
      "text/plain": [
       "FloatProgress(value=0.0, bar_style='info', description='Progress:', layout=Layout(height='25px', width='50%'),…"
      ]
     },
     "metadata": {},
     "output_type": "display_data"
    },
    {
     "name": "stdout",
     "output_type": "stream",
     "text": [
      "SparkSession available as 'spark'.\n"
     ]
    },
    {
     "data": {
      "application/vnd.jupyter.widget-view+json": {
       "model_id": "",
       "version_major": 2,
       "version_minor": 0
      },
      "text/plain": [
       "FloatProgress(value=0.0, bar_style='info', description='Progress:', layout=Layout(height='25px', width='50%'),…"
      ]
     },
     "metadata": {},
     "output_type": "display_data"
    },
    {
     "name": "stdout",
     "output_type": "stream",
     "text": [
      "+-----------+----------+---------+----------+---------+--------------------+------+---------------+------+---------------+------+--------------+-----+--------------+-----+----------------+-----+---------------+-----+-----+------+--------------+------+--------------+-----+---------------+-----+------+\n",
      "|    STATION|      DATE| LATITUDE| LONGITUDE|ELEVATION|                NAME|  TEMP|TEMP_ATTRIBUTES|  DEWP|DEWP_ATTRIBUTES|   SLP|SLP_ATTRIBUTES|  STP|STP_ATTRIBUTES|VISIB|VISIB_ATTRIBUTES| WDSP|WDSP_ATTRIBUTES|MXSPD| GUST|   MAX|MAX_ATTRIBUTES|   MIN|MIN_ATTRIBUTES| PRCP|PRCP_ATTRIBUTES| SNDP|FRSHTT|\n",
      "+-----------+----------+---------+----------+---------+--------------------+------+---------------+------+---------------+------+--------------+-----+--------------+-----+----------------+-----+---------------+-----+-----+------+--------------+------+--------------+-----+---------------+-----+------+\n",
      "|72401599999|2021-01-01|37.074194|-77.957528|    133.8|ALLEN C PERKINSON...|  43.0|             24|  36.4|             24|9999.9|             0|999.9|             0|  8.9|              24|  7.2|             24| 15.0| 20.0|  59.2|              |  37.4|              | 0.06|              A|999.9|000000|\n",
      "|72401599999|2021-01-02|37.074194|-77.957528|    133.8|ALLEN C PERKINSON...|  44.8|             22|  42.7|             22|9999.9|             0|999.9|             0|  9.0|              22|  4.5|             22|  9.9| 14.0|  60.8|              |  35.4|              | 0.32|              G|999.9|100000|\n",
      "|72401599999|2021-01-03|37.074194|-77.957528|    133.8|ALLEN C PERKINSON...|  44.9|             22|  44.7|             22|9999.9|             0|999.9|             0|  7.5|              22|  6.0|             22|  8.9| 15.9|  48.9|             *|  42.8|             *| 0.57|              G|999.9|100000|\n",
      "|72401599999|2021-01-04|37.074194|-77.957528|    133.8|ALLEN C PERKINSON...|  41.6|             24|  40.2|             24|9999.9|             0|999.9|             0|  9.9|              24|  2.5|             24|  7.0|999.9|  48.7|              |  38.7|              | 0.00|              G|999.9|000000|\n",
      "|72401599999|2021-01-05|37.074194|-77.957528|    133.8|ALLEN C PERKINSON...|  37.2|             24|  34.5|             24|9999.9|             0|999.9|             0|  6.6|              24|  1.7|             22|  8.0|999.9|  47.5|              |  29.8|              | 0.00|              I|999.9|100000|\n",
      "|72401599999|2021-01-06|37.074194|-77.957528|    133.8|ALLEN C PERKINSON...|  38.6|             24|  31.3|             24|9999.9|             0|999.9|             0| 10.0|              24|  3.4|             24|  8.9| 15.0|  47.5|              |  29.8|              | 0.00|              I|999.9|000000|\n",
      "|72401599999|2021-01-07|37.074194|-77.957528|    133.8|ALLEN C PERKINSON...|  33.9|             24|  28.1|             24|9999.9|             0|999.9|             0|  9.8|              24|  1.1|             24|  5.1|999.9|  45.5|              |  24.4|              | 0.00|              I|999.9|000000|\n",
      "|72401599999|2021-01-08|37.074194|-77.957528|    133.8|ALLEN C PERKINSON...|  37.3|             24|  27.8|             24|9999.9|             0|999.9|             0| 10.0|              24|  4.3|             23|  8.9| 15.9|  45.5|              |  24.4|              | 0.00|              I|999.9|000000|\n",
      "|72401599999|2021-01-09|37.074194|-77.957528|    133.8|ALLEN C PERKINSON...|  36.4|             24|  19.6|             24|9999.9|             0|999.9|             0| 10.0|              24|  7.1|             24| 14.0| 21.0|  48.2|              |  26.8|              | 0.00|              I|999.9|000000|\n",
      "|72401599999|2021-01-10|37.074194|-77.957528|    133.8|ALLEN C PERKINSON...|  37.3|             24|  20.6|             24|9999.9|             0|999.9|             0| 10.0|              24|  4.0|             24|  8.9|999.9|  50.9|              |  26.8|              | 0.00|              I|999.9|000000|\n",
      "|72401599999|2021-01-11|37.074194|-77.957528|    133.8|ALLEN C PERKINSON...|  34.9|             24|  26.0|             24|9999.9|             0|999.9|             0| 10.0|              24|  1.6|             22|  6.0|999.9|  50.9|              |  26.4|              | 0.00|              I|999.9|000000|\n",
      "|72401599999|2021-01-12|37.074194|-77.957528|    133.8|ALLEN C PERKINSON...|  41.2|             24|  32.6|             24|9999.9|             0|999.9|             0| 10.0|              24|  2.3|             24|  7.0| 28.0|  52.7|              |  26.4|              | 0.00|              I|999.9|000000|\n",
      "|72401599999|2021-01-13|37.074194|-77.957528|    133.8|ALLEN C PERKINSON...|  36.7|             24|  25.0|             24|9999.9|             0|999.9|             0| 10.0|              24|  2.0|             24|  8.9| 14.0|  54.5|              |  23.4|              | 0.00|              I|999.9|000000|\n",
      "|72401599999|2021-01-14|37.074194|-77.957528|    133.8|ALLEN C PERKINSON...|  40.7|             24|  26.4|             24|9999.9|             0|999.9|             0|  9.2|              24|  3.6|             24|  8.0|999.9|  56.1|              |  23.4|              | 0.00|              I|999.9|100000|\n",
      "|72401599999|2021-01-15|37.074194|-77.957528|    133.8|ALLEN C PERKINSON...|  39.9|             24|  31.2|             24|9999.9|             0|999.9|             0|  8.4|              24|  3.8|             23| 12.0| 22.0|  54.9|              |  28.6|              | 0.05|              A|999.9|100000|\n",
      "|72401599999|2021-01-16|37.074194|-77.957528|    133.8|ALLEN C PERKINSON...|  36.6|             20|  36.3|             20|9999.9|             0|999.9|             0|  5.1|              20|  4.5|             19| 11.1| 15.9|  45.9|             *|  32.9|             *| 0.07|              B|999.9|100000|\n",
      "|72401599999|2021-01-17|37.074194|-77.957528|    133.8|ALLEN C PERKINSON...|  36.9|             24|  27.4|             24|9999.9|             0|999.9|             0| 10.0|              24|  6.8|             24| 11.1| 17.1|  48.9|              |  30.2|              | 0.00|              I|999.9|000000|\n",
      "|72401599999|2021-01-18|37.074194|-77.957528|    133.8|ALLEN C PERKINSON...|  38.2|             24|  26.6|             24|9999.9|             0|999.9|             0| 10.0|              24|  6.4|             24| 14.0| 20.0|  48.9|              |  30.2|              | 0.00|              I|999.9|000000|\n",
      "|72401599999|2021-01-19|37.074194|-77.957528|    133.8|ALLEN C PERKINSON...|  38.1|             24|  23.6|             24|9999.9|             0|999.9|             0| 10.0|              24|  5.8|             24| 15.9| 24.1|  55.8|              |  24.3|              | 0.00|              I|999.9|000000|\n",
      "|72401599999|2021-01-20|37.074194|-77.957528|    133.8|ALLEN C PERKINSON...|  40.5|             24|  23.6|             24|9999.9|             0|999.9|             0| 10.0|              24|  5.9|             24| 15.9| 24.1|  55.8|              |  24.3|              | 0.00|              I|999.9|000000|\n",
      "+-----------+----------+---------+----------+---------+--------------------+------+---------------+------+---------------+------+--------------+-----+--------------+-----+----------------+-----+---------------+-----+-----+------+--------------+------+--------------+-----+---------------+-----+------+\n",
      "only showing top 20 rows"
     ]
    }
   ],
   "source": [
    "df = spark.read.csv(\"s3://noaa-gsod-pds/2021/\", header = \"true\")\n",
    "df.show()"
   ]
  },
  {
   "cell_type": "markdown",
   "id": "c5501102",
   "metadata": {},
   "source": [
    "We can see there's quite a bit of data here including a Station ID (`STATION`) and Name (`NAME`), and various temperature/weather attributes.\n",
    "\n",
    "We can also see there are some columns that have values of `9999.9` or `999.9` in them, indicating there's no valid data for that value.\n",
    "\n",
    "In addition, by default Spark will not infer the input schema and every column will be of string type. Let's go ahead and read a single file using the Station ID and see if Spark can detect a schema."
   ]
  },
  {
   "cell_type": "code",
   "execution_count": 2,
   "id": "296fdc46",
   "metadata": {},
   "outputs": [
    {
     "data": {
      "application/vnd.jupyter.widget-view+json": {
       "model_id": "22decb7f5a1e40b9828d655532d1526c",
       "version_major": 2,
       "version_minor": 0
      },
      "text/plain": [
       "VBox()"
      ]
     },
     "metadata": {},
     "output_type": "display_data"
    },
    {
     "data": {
      "application/vnd.jupyter.widget-view+json": {
       "model_id": "",
       "version_major": 2,
       "version_minor": 0
      },
      "text/plain": [
       "FloatProgress(value=0.0, bar_style='info', description='Progress:', layout=Layout(height='25px', width='50%'),…"
      ]
     },
     "metadata": {},
     "output_type": "display_data"
    },
    {
     "name": "stdout",
     "output_type": "stream",
     "text": [
      "root\n",
      " |-- STATION: long (nullable = true)\n",
      " |-- DATE: string (nullable = true)\n",
      " |-- LATITUDE: double (nullable = true)\n",
      " |-- LONGITUDE: double (nullable = true)\n",
      " |-- ELEVATION: double (nullable = true)\n",
      " |-- NAME: string (nullable = true)\n",
      " |-- TEMP: double (nullable = true)\n",
      " |-- TEMP_ATTRIBUTES: double (nullable = true)\n",
      " |-- DEWP: double (nullable = true)\n",
      " |-- DEWP_ATTRIBUTES: double (nullable = true)\n",
      " |-- SLP: double (nullable = true)\n",
      " |-- SLP_ATTRIBUTES: double (nullable = true)\n",
      " |-- STP: double (nullable = true)\n",
      " |-- STP_ATTRIBUTES: double (nullable = true)\n",
      " |-- VISIB: double (nullable = true)\n",
      " |-- VISIB_ATTRIBUTES: double (nullable = true)\n",
      " |-- WDSP: double (nullable = true)\n",
      " |-- WDSP_ATTRIBUTES: double (nullable = true)\n",
      " |-- MXSPD: double (nullable = true)\n",
      " |-- GUST: double (nullable = true)\n",
      " |-- MAX: double (nullable = true)\n",
      " |-- MAX_ATTRIBUTES: string (nullable = true)\n",
      " |-- MIN: double (nullable = true)\n",
      " |-- MIN_ATTRIBUTES: string (nullable = true)\n",
      " |-- PRCP: double (nullable = true)\n",
      " |-- PRCP_ATTRIBUTES: string (nullable = true)\n",
      " |-- SNDP: double (nullable = true)\n",
      " |-- FRSHTT: integer (nullable = true)"
     ]
    }
   ],
   "source": [
    "station_id = df.limit(1).collect()[0].STATION\n",
    "dfSingle = spark.read.csv(f\"s3://noaa-gsod-pds/2021/{station_id}.csv\",\n",
    "    header=\"true\",\n",
    "    inferSchema=\"true\"\n",
    ")\n",
    "\n",
    "dfSingle.printSchema()"
   ]
  },
  {
   "cell_type": "markdown",
   "id": "a9e092b8",
   "metadata": {},
   "source": [
    "Let's take a quick look at a few interesting attributes for this single station and see what it looks like."
   ]
  },
  {
   "cell_type": "code",
   "execution_count": null,
   "id": "0a78e674",
   "metadata": {},
   "outputs": [],
   "source": [
    "dfSingle.select(\"DATE\", \"TEMP\", \"VISIB\", \"WDSP\", \"PRCP\", \"MAX\", \"MIN\").summary(\"count\", \"mean\", \"min\", \"max\").show()"
   ]
  },
  {
   "cell_type": "markdown",
   "id": "fc8bbca7",
   "metadata": {},
   "source": [
    "Using this, we can see various attributes about the temperature data and it all seems to make sense. For example, the highest `MAX` temp was 95.5.\n",
    "\n",
    "In order to make this data easily usable, let's go ahead and do some transformations.\n",
    "\n",
    "## Step 2 - Data Transformation\n",
    "\n",
    "We'll perform a few steps:\n",
    "- Change the names for better readability\n",
    "- Convert to a binary, columnar format optimized for analytics - Apache Parquet\n",
    "- Partition the data by year so we can more easily read slices of the data\n",
    "- _Also_ repartition the data so we have less files\n",
    "- Extract the `FRSHTT` column to multiple columns with boolean attributes\n",
    "\n",
    "In addition, we're going to add a parameter to this notebook so we can run it programmatically later by tagging the cell.\n",
    "\n",
    "The next cell is already tagged but you can check how it's done by clicking the \"Notebook Tools\" wrench icon on the left-hand side when the cell below is selected.\n",
    "- Expand \"Advanced Tools\" and you should see the following in \"Cell Metadata\"\n",
    "\n",
    "```json\n",
    "{\n",
    "    \"tags\": [\n",
    "        \"parameters\"\n",
    "    ]\n",
    "}\n",
    "```"
   ]
  },
  {
   "cell_type": "code",
   "execution_count": 3,
   "id": "be14d733",
   "metadata": {
    "tags": [
     "parameters"
    ]
   },
   "outputs": [
    {
     "data": {
      "application/vnd.jupyter.widget-view+json": {
       "model_id": "64eeb9e11597460facd552d9f2463ffb",
       "version_major": 2,
       "version_minor": 0
      },
      "text/plain": [
       "VBox()"
      ]
     },
     "metadata": {},
     "output_type": "display_data"
    },
    {
     "data": {
      "application/vnd.jupyter.widget-view+json": {
       "model_id": "",
       "version_major": 2,
       "version_minor": 0
      },
      "text/plain": [
       "FloatProgress(value=0.0, bar_style='info', description='Progress:', layout=Layout(height='25px', width='50%'),…"
      ]
     },
     "metadata": {},
     "output_type": "display_data"
    }
   ],
   "source": [
    "# This cell has a `parameters` tag so we can override it in workflows\n",
    "# ref: https://papermill.readthedocs.io/en/latest/usage-parameterize.html#id1\n",
    "# You can specify one year or multiple comma-separated years\n",
    "years_to_process = '2021'"
   ]
  },
  {
   "cell_type": "code",
   "execution_count": 4,
   "id": "50bbb8f1",
   "metadata": {},
   "outputs": [
    {
     "data": {
      "application/vnd.jupyter.widget-view+json": {
       "model_id": "cef5c253dc3648e284805b144dd5d4ea",
       "version_major": 2,
       "version_minor": 0
      },
      "text/plain": [
       "VBox()"
      ]
     },
     "metadata": {},
     "output_type": "display_data"
    },
    {
     "data": {
      "application/vnd.jupyter.widget-view+json": {
       "model_id": "",
       "version_major": 2,
       "version_minor": 0
      },
      "text/plain": [
       "FloatProgress(value=0.0, bar_style='info', description='Progress:', layout=Layout(height='25px', width='50%'),…"
      ]
     },
     "metadata": {},
     "output_type": "display_data"
    },
    {
     "name": "stdout",
     "output_type": "stream",
     "text": [
      "Processing the following years: ['2021']"
     ]
    }
   ],
   "source": [
    "year_list = years_to_process.split(',')\n",
    "print(f\"Processing the following years: {year_list}\")"
   ]
  },
  {
   "cell_type": "markdown",
   "id": "a6d05fb2",
   "metadata": {},
   "source": [
    "Now we're going to take the schema we inferred above, use it to read the rest of the data, and write it back out to S3.\n",
    "\n",
    "For the output location, use the S3 bucket created for you as part of this lab, e.g. `emr-dev-exp-<ACCOUNT_ID>`.\n",
    "\n",
    "You can find your account ID in the top right of AWS console or by running the next cell."
   ]
  },
  {
   "cell_type": "code",
   "execution_count": 5,
   "id": "65812e07",
   "metadata": {},
   "outputs": [
    {
     "name": "stdout",
     "output_type": "stream",
     "text": [
      "068216289992\n"
     ]
    }
   ],
   "source": [
    "%%local\n",
    "\n",
    "# Retrieves AWS Account ID\n",
    "!aws sts get-caller-identity --query Account --output text"
   ]
  },
  {
   "cell_type": "markdown",
   "id": "5371e37f",
   "metadata": {},
   "source": [
    "**!!! ⚠️**\n",
    "\n",
    "**<font color=\"red\">MAKE SURE YOU REPLACE `<ACCOUNT_ID>` BELOW WITH THE ACCOUNT ID DISPLAYED ABOVE</font>**\n",
    "    \n",
    "**!!! ⚠️**"
   ]
  },
  {
   "cell_type": "code",
   "execution_count": 6,
   "id": "6dd87dbf",
   "metadata": {},
   "outputs": [
    {
     "data": {
      "application/vnd.jupyter.widget-view+json": {
       "model_id": "3e600f0315074a809291e6b354f6f059",
       "version_major": 2,
       "version_minor": 0
      },
      "text/plain": [
       "VBox()"
      ]
     },
     "metadata": {},
     "output_type": "display_data"
    },
    {
     "data": {
      "application/vnd.jupyter.widget-view+json": {
       "model_id": "",
       "version_major": 2,
       "version_minor": 0
      },
      "text/plain": [
       "FloatProgress(value=0.0, bar_style='info', description='Progress:', layout=Layout(height='25px', width='50%'),…"
      ]
     },
     "metadata": {},
     "output_type": "display_data"
    }
   ],
   "source": [
    "from pyspark.sql.types import StringType\n",
    "\n",
    "OUTPUT_BUCKET=\"emr-dev-exp-068216289992\"\n",
    "\n",
    "inferred_schema = dfSingle \\\n",
    "    .withColumn(\"STATION\", dfSingle[\"STATION\"].cast(StringType())) \\\n",
    "    .withColumn(\"FRSHTT\", dfSingle[\"FRSHTT\"].cast(StringType())) \\\n",
    "    .schema"
   ]
  },
  {
   "cell_type": "code",
   "execution_count": 7,
   "id": "f6b14542",
   "metadata": {},
   "outputs": [
    {
     "data": {
      "application/vnd.jupyter.widget-view+json": {
       "model_id": "689c7f57b1484e6f9e920ad6e22705bf",
       "version_major": 2,
       "version_minor": 0
      },
      "text/plain": [
       "VBox()"
      ]
     },
     "metadata": {},
     "output_type": "display_data"
    },
    {
     "data": {
      "application/vnd.jupyter.widget-view+json": {
       "model_id": "",
       "version_major": 2,
       "version_minor": 0
      },
      "text/plain": [
       "FloatProgress(value=0.0, bar_style='info', description='Progress:', layout=Layout(height='25px', width='50%'),…"
      ]
     },
     "metadata": {},
     "output_type": "display_data"
    },
    {
     "name": "stderr",
     "output_type": "stream",
     "text": [
      "An error was encountered:\n",
      "DEFAULT OUTPUT BUCKET MUST BE CHANGED\n",
      "Traceback (most recent call last):\n",
      "AssertionError: DEFAULT OUTPUT BUCKET MUST BE CHANGED\n",
      "\n"
     ]
    }
   ],
   "source": [
    "# If a notebook cell fails, EMR programmatic notebook execution will mark the notebook run as \"failed\"\n",
    "assert OUTPUT_BUCKET != \"emr-dev-exp-068216289992\", \"DEFAULT OUTPUT BUCKET MUST BE CHANGED\""
   ]
  },
  {
   "cell_type": "markdown",
   "id": "d5d2a42c",
   "metadata": {},
   "source": [
    "First, let's read in our data and convert everything the way we want it."
   ]
  },
  {
   "cell_type": "code",
   "execution_count": 8,
   "id": "44d94536",
   "metadata": {},
   "outputs": [
    {
     "data": {
      "application/vnd.jupyter.widget-view+json": {
       "model_id": "c61a2404702b42d5ad5400ec15366cda",
       "version_major": 2,
       "version_minor": 0
      },
      "text/plain": [
       "VBox()"
      ]
     },
     "metadata": {},
     "output_type": "display_data"
    },
    {
     "data": {
      "application/vnd.jupyter.widget-view+json": {
       "model_id": "",
       "version_major": 2,
       "version_minor": 0
      },
      "text/plain": [
       "FloatProgress(value=0.0, bar_style='info', description='Progress:', layout=Layout(height='25px', width='50%'),…"
      ]
     },
     "metadata": {},
     "output_type": "display_data"
    },
    {
     "name": "stdout",
     "output_type": "stream",
     "text": [
      "+-----------+--------------------+----------+----------+---------+---------+----------+----------+-------------+--------+--------+------+\n",
      "| station_id|        station_name|      date| longitude| latitude|mean_temp|visibility|wind_speed|precipitation|max_temp|min_temp|FRSHTT|\n",
      "+-----------+--------------------+----------+----------+---------+---------+----------+----------+-------------+--------+--------+------+\n",
      "|72401599999|ALLEN C PERKINSON...|2021-01-01|-77.957528|37.074194|     43.0|       8.9|       7.2|         0.06|    59.2|    37.4|000000|\n",
      "|72401599999|ALLEN C PERKINSON...|2021-01-02|-77.957528|37.074194|     44.8|       9.0|       4.5|         0.32|    60.8|    35.4|100000|\n",
      "|72401599999|ALLEN C PERKINSON...|2021-01-03|-77.957528|37.074194|     44.9|       7.5|       6.0|         0.57|    48.9|    42.8|100000|\n",
      "|72401599999|ALLEN C PERKINSON...|2021-01-04|-77.957528|37.074194|     41.6|       9.9|       2.5|          0.0|    48.7|    38.7|000000|\n",
      "|72401599999|ALLEN C PERKINSON...|2021-01-05|-77.957528|37.074194|     37.2|       6.6|       1.7|          0.0|    47.5|    29.8|100000|\n",
      "|72401599999|ALLEN C PERKINSON...|2021-01-06|-77.957528|37.074194|     38.6|      10.0|       3.4|          0.0|    47.5|    29.8|000000|\n",
      "|72401599999|ALLEN C PERKINSON...|2021-01-07|-77.957528|37.074194|     33.9|       9.8|       1.1|          0.0|    45.5|    24.4|000000|\n",
      "|72401599999|ALLEN C PERKINSON...|2021-01-08|-77.957528|37.074194|     37.3|      10.0|       4.3|          0.0|    45.5|    24.4|000000|\n",
      "|72401599999|ALLEN C PERKINSON...|2021-01-09|-77.957528|37.074194|     36.4|      10.0|       7.1|          0.0|    48.2|    26.8|000000|\n",
      "|72401599999|ALLEN C PERKINSON...|2021-01-10|-77.957528|37.074194|     37.3|      10.0|       4.0|          0.0|    50.9|    26.8|000000|\n",
      "|72401599999|ALLEN C PERKINSON...|2021-01-11|-77.957528|37.074194|     34.9|      10.0|       1.6|          0.0|    50.9|    26.4|000000|\n",
      "|72401599999|ALLEN C PERKINSON...|2021-01-12|-77.957528|37.074194|     41.2|      10.0|       2.3|          0.0|    52.7|    26.4|000000|\n",
      "|72401599999|ALLEN C PERKINSON...|2021-01-13|-77.957528|37.074194|     36.7|      10.0|       2.0|          0.0|    54.5|    23.4|000000|\n",
      "|72401599999|ALLEN C PERKINSON...|2021-01-14|-77.957528|37.074194|     40.7|       9.2|       3.6|          0.0|    56.1|    23.4|100000|\n",
      "|72401599999|ALLEN C PERKINSON...|2021-01-15|-77.957528|37.074194|     39.9|       8.4|       3.8|         0.05|    54.9|    28.6|100000|\n",
      "|72401599999|ALLEN C PERKINSON...|2021-01-16|-77.957528|37.074194|     36.6|       5.1|       4.5|         0.07|    45.9|    32.9|100000|\n",
      "|72401599999|ALLEN C PERKINSON...|2021-01-17|-77.957528|37.074194|     36.9|      10.0|       6.8|          0.0|    48.9|    30.2|000000|\n",
      "|72401599999|ALLEN C PERKINSON...|2021-01-18|-77.957528|37.074194|     38.2|      10.0|       6.4|          0.0|    48.9|    30.2|000000|\n",
      "|72401599999|ALLEN C PERKINSON...|2021-01-19|-77.957528|37.074194|     38.1|      10.0|       5.8|          0.0|    55.8|    24.3|000000|\n",
      "|72401599999|ALLEN C PERKINSON...|2021-01-20|-77.957528|37.074194|     40.5|      10.0|       5.9|          0.0|    55.8|    24.3|000000|\n",
      "+-----------+--------------------+----------+----------+---------+---------+----------+----------+-------------+--------+--------+------+\n",
      "only showing top 20 rows"
     ]
    }
   ],
   "source": [
    "# For this demo, we'll just use the first year\n",
    "# In production, we can change this logic\n",
    "year = year_list[0]\n",
    "\n",
    "# We're going to give most of the columns more readable names\n",
    "desired_columns = [\"STATION\", \"NAME\", \"DATE\", \"LONGITUDE\", \"LATITUDE\", \"TEMP\", \"VISIB\", \"WDSP\", \"PRCP\", \"MAX\", \"MIN\", \"FRSHTT\"]\n",
    "renamed_columns = [\"station_id\", \"station_name\", \"date\", \"longitude\", \"latitude\", \"mean_temp\", \"visibility\", \"wind_speed\", \"precipitation\", \"max_temp\", \"min_temp\", \"FRSHTT\"]\n",
    "\n",
    "# Read in the data\n",
    "input_prefix = f\"s3://noaa-gsod-pds/{year}/\"\n",
    "df = spark.read.csv(input_prefix, header=\"true\", schema=inferred_schema)\n",
    "\n",
    "# Select only the columns we're interested in, while renaming them as well\n",
    "from pyspark.sql.functions import col\n",
    "column_selections = [col(desired_columns[idx]).alias(renamed_columns[idx]) for idx,_ in enumerate(desired_columns)]\n",
    "dfSlim = df.select(*column_selections)\n",
    "dfSlim.show()"
   ]
  },
  {
   "cell_type": "code",
   "execution_count": 9,
   "id": "e6f8fb4c",
   "metadata": {},
   "outputs": [
    {
     "data": {
      "application/vnd.jupyter.widget-view+json": {
       "model_id": "3120ce1b8ca04848a6cc9ab8472f4136",
       "version_major": 2,
       "version_minor": 0
      },
      "text/plain": [
       "VBox()"
      ]
     },
     "metadata": {},
     "output_type": "display_data"
    },
    {
     "data": {
      "application/vnd.jupyter.widget-view+json": {
       "model_id": "",
       "version_major": 2,
       "version_minor": 0
      },
      "text/plain": [
       "FloatProgress(value=0.0, bar_style='info', description='Progress:', layout=Layout(height='25px', width='50%'),…"
      ]
     },
     "metadata": {},
     "output_type": "display_data"
    },
    {
     "name": "stdout",
     "output_type": "stream",
     "text": [
      "+-----------+--------------------+----------+----------+---------+---------+----------+----------+-------------+--------+--------+-------+--------+--------+--------+-----------+-----------+\n",
      "| station_id|        station_name|      date| longitude| latitude|mean_temp|visibility|wind_speed|precipitation|max_temp|min_temp|has_fog|has_rain|has_snow|has_hail|has_thunder|has_tornado|\n",
      "+-----------+--------------------+----------+----------+---------+---------+----------+----------+-------------+--------+--------+-------+--------+--------+--------+-----------+-----------+\n",
      "|72401599999|ALLEN C PERKINSON...|2021-01-01|-77.957528|37.074194|     43.0|       8.9|       7.2|         0.06|    59.2|    37.4|  false|   false|   false|   false|      false|      false|\n",
      "|72401599999|ALLEN C PERKINSON...|2021-01-02|-77.957528|37.074194|     44.8|       9.0|       4.5|         0.32|    60.8|    35.4|   true|   false|   false|   false|      false|      false|\n",
      "|72401599999|ALLEN C PERKINSON...|2021-01-03|-77.957528|37.074194|     44.9|       7.5|       6.0|         0.57|    48.9|    42.8|   true|   false|   false|   false|      false|      false|\n",
      "|72401599999|ALLEN C PERKINSON...|2021-01-04|-77.957528|37.074194|     41.6|       9.9|       2.5|          0.0|    48.7|    38.7|  false|   false|   false|   false|      false|      false|\n",
      "|72401599999|ALLEN C PERKINSON...|2021-01-05|-77.957528|37.074194|     37.2|       6.6|       1.7|          0.0|    47.5|    29.8|   true|   false|   false|   false|      false|      false|\n",
      "|72401599999|ALLEN C PERKINSON...|2021-01-06|-77.957528|37.074194|     38.6|      10.0|       3.4|          0.0|    47.5|    29.8|  false|   false|   false|   false|      false|      false|\n",
      "|72401599999|ALLEN C PERKINSON...|2021-01-07|-77.957528|37.074194|     33.9|       9.8|       1.1|          0.0|    45.5|    24.4|  false|   false|   false|   false|      false|      false|\n",
      "|72401599999|ALLEN C PERKINSON...|2021-01-08|-77.957528|37.074194|     37.3|      10.0|       4.3|          0.0|    45.5|    24.4|  false|   false|   false|   false|      false|      false|\n",
      "|72401599999|ALLEN C PERKINSON...|2021-01-09|-77.957528|37.074194|     36.4|      10.0|       7.1|          0.0|    48.2|    26.8|  false|   false|   false|   false|      false|      false|\n",
      "|72401599999|ALLEN C PERKINSON...|2021-01-10|-77.957528|37.074194|     37.3|      10.0|       4.0|          0.0|    50.9|    26.8|  false|   false|   false|   false|      false|      false|\n",
      "|72401599999|ALLEN C PERKINSON...|2021-01-11|-77.957528|37.074194|     34.9|      10.0|       1.6|          0.0|    50.9|    26.4|  false|   false|   false|   false|      false|      false|\n",
      "|72401599999|ALLEN C PERKINSON...|2021-01-12|-77.957528|37.074194|     41.2|      10.0|       2.3|          0.0|    52.7|    26.4|  false|   false|   false|   false|      false|      false|\n",
      "|72401599999|ALLEN C PERKINSON...|2021-01-13|-77.957528|37.074194|     36.7|      10.0|       2.0|          0.0|    54.5|    23.4|  false|   false|   false|   false|      false|      false|\n",
      "|72401599999|ALLEN C PERKINSON...|2021-01-14|-77.957528|37.074194|     40.7|       9.2|       3.6|          0.0|    56.1|    23.4|   true|   false|   false|   false|      false|      false|\n",
      "|72401599999|ALLEN C PERKINSON...|2021-01-15|-77.957528|37.074194|     39.9|       8.4|       3.8|         0.05|    54.9|    28.6|   true|   false|   false|   false|      false|      false|\n",
      "|72401599999|ALLEN C PERKINSON...|2021-01-16|-77.957528|37.074194|     36.6|       5.1|       4.5|         0.07|    45.9|    32.9|   true|   false|   false|   false|      false|      false|\n",
      "|72401599999|ALLEN C PERKINSON...|2021-01-17|-77.957528|37.074194|     36.9|      10.0|       6.8|          0.0|    48.9|    30.2|  false|   false|   false|   false|      false|      false|\n",
      "|72401599999|ALLEN C PERKINSON...|2021-01-18|-77.957528|37.074194|     38.2|      10.0|       6.4|          0.0|    48.9|    30.2|  false|   false|   false|   false|      false|      false|\n",
      "|72401599999|ALLEN C PERKINSON...|2021-01-19|-77.957528|37.074194|     38.1|      10.0|       5.8|          0.0|    55.8|    24.3|  false|   false|   false|   false|      false|      false|\n",
      "|72401599999|ALLEN C PERKINSON...|2021-01-20|-77.957528|37.074194|     40.5|      10.0|       5.9|          0.0|    55.8|    24.3|  false|   false|   false|   false|      false|      false|\n",
      "+-----------+--------------------+----------+----------+---------+---------+----------+----------+-------------+--------+--------+-------+--------+--------+--------+-----------+-----------+\n",
      "only showing top 20 rows"
     ]
    }
   ],
   "source": [
    "# Let's break the FRSHTT column out into multiple columns\n",
    "dfSlim = dfSlim \\\n",
    "    .withColumn(\"has_fog\", dfSlim.FRSHTT.substr(1,1) == \"1\") \\\n",
    "    .withColumn(\"has_rain\", dfSlim.FRSHTT.substr(2,1) == \"1\") \\\n",
    "    .withColumn(\"has_snow\", dfSlim.FRSHTT.substr(3,1) == \"1\") \\\n",
    "    .withColumn(\"has_hail\", dfSlim.FRSHTT.substr(4,1) == \"1\") \\\n",
    "    .withColumn(\"has_thunder\", dfSlim.FRSHTT.substr(5,1) == \"1\") \\\n",
    "    .withColumn(\"has_tornado\", dfSlim.FRSHTT.substr(6,1) == \"1\") \\\n",
    "    .drop(\"FRSHTT\")\n",
    "\n",
    "dfSlim.show()"
   ]
  },
  {
   "cell_type": "code",
   "execution_count": 10,
   "id": "1d0bd462",
   "metadata": {},
   "outputs": [
    {
     "data": {
      "application/vnd.jupyter.widget-view+json": {
       "model_id": "f1bdc180aeea4735809af018c9566cac",
       "version_major": 2,
       "version_minor": 0
      },
      "text/plain": [
       "VBox()"
      ]
     },
     "metadata": {},
     "output_type": "display_data"
    },
    {
     "data": {
      "application/vnd.jupyter.widget-view+json": {
       "model_id": "",
       "version_major": 2,
       "version_minor": 0
      },
      "text/plain": [
       "FloatProgress(value=0.0, bar_style='info', description='Progress:', layout=Layout(height='25px', width='50%'),…"
      ]
     },
     "metadata": {},
     "output_type": "display_data"
    },
    {
     "name": "stdout",
     "output_type": "stream",
     "text": [
      "+-----------+--------------------+----------+----------+---------+---------+----------+----------+-------------+--------+--------+-------+--------+--------+--------+-----------+-----------+\n",
      "| station_id|        station_name|      date| longitude| latitude|mean_temp|visibility|wind_speed|precipitation|max_temp|min_temp|has_fog|has_rain|has_snow|has_hail|has_thunder|has_tornado|\n",
      "+-----------+--------------------+----------+----------+---------+---------+----------+----------+-------------+--------+--------+-------+--------+--------+--------+-----------+-----------+\n",
      "|78016013601|L F WADE INTERNAT...|2021-06-08| -64.68333| 32.36667|     77.2|       6.3|       6.2|         0.02|    82.2|    71.8|  false|   false|   false|   false|      false|       true|\n",
      "|78016013601|L F WADE INTERNAT...|2021-08-14| -64.68333| 32.36667|     81.8|       6.3|       2.8|         0.25|    86.7|    78.1|  false|    true|   false|   false|      false|       true|\n",
      "|78016013601|L F WADE INTERNAT...|2021-09-13| -64.68333| 32.36667|     80.6|       6.3|       5.5|        99.99|    85.5|    76.8|  false|    true|   false|   false|      false|       true|\n",
      "|72203012844|WEST PALM BEACH I...|2021-09-09|  -80.0994|  26.6847|     82.4|      10.0|       5.6|         0.01|    93.9|    75.0|  false|    true|   false|   false|       true|       true|\n",
      "|72524504853|CLEVELAND BURKE L...|2021-08-01| -81.68361|  41.5175|     71.9|       8.7|       9.1|          0.0|    78.1|    61.0|  false|    true|   false|   false|       true|       true|\n",
      "|72524504853|CLEVELAND BURKE L...|2021-10-17| -81.68361|  41.5175|     56.7|      10.0|      19.3|          0.0|    63.0|    52.0|  false|    true|   false|   false|      false|       true|\n",
      "|72203912885|FORT LAUDERDALE E...|2021-10-10| -80.17083| 26.19694|     77.6|      10.0|       4.1|          0.4|    89.1|    71.1|  false|   false|   false|   false|      false|       true|\n",
      "|74787012834|DAYTONA BEACH INT...|2021-10-08|  -81.0483|  29.1828|     79.0|       8.4|       2.9|          0.0|    91.0|    72.0|   true|    true|   false|   false|       true|       true|\n",
      "|72247003901|LONGVIEW E TX REG...|2021-03-31| -94.71397| 32.39093|     63.4|       9.7|       7.9|         0.03|    78.1|    57.9|  false|    true|   false|   false|      false|       true|\n",
      "|74465504808|CHICAGO AURORA MU...|2021-08-20| -88.48139|    41.77|     77.2|       8.9|       2.4|          0.0|    88.0|    63.0|  false|   false|   false|   false|      false|       true|\n",
      "|72565003017|DENVER INTERNATIO...|2021-06-07| -104.6575|  39.8328|     70.5|       9.9|       7.3|          0.0|    91.9|    53.1|  false|    true|   false|   false|      false|       true|\n",
      "|78550099999|TERRANCE B LETTSO...|2021-04-13|-64.542975|18.444834|     80.6|      10.0|       2.9|        99.99|    84.2|    77.0|  false|    true|   false|   false|      false|       true|\n",
      "|78550099999|TERRANCE B LETTSO...|2021-04-26|-64.542975|18.444834|     82.0|       5.2|       8.8|          0.0|    86.0|    78.8|  false|   false|   false|   false|      false|       true|\n",
      "|78550099999|TERRANCE B LETTSO...|2021-08-02|-64.542975|18.444834|     85.0|      10.0|       6.8|          0.0|    87.8|    82.4|  false|   false|   false|   false|      false|       true|\n",
      "|78954000408|GRANTLEY ADAMS IN...|2021-09-12|   -59.483|   13.067|     81.5|       6.2|       5.7|        99.99|    89.6|    75.2|  false|    true|   false|   false|       true|       true|\n",
      "|71834099999|GERALDTON GREENST...|2021-10-09|-86.939445|49.778332|     61.1|       5.2|       1.4|         0.18|    68.0|    58.5|   true|    true|   false|   false|      false|       true|\n",
      "|72201012836|KEY WEST INTERNAT...|2021-03-03|  -81.7554|  24.5571|     78.0|      10.0|       7.7|          0.0|    82.9|    75.0|  false|   false|   false|   false|      false|       true|\n",
      "|72201012836|KEY WEST INTERNAT...|2021-05-07|  -81.7554|  24.5571|     81.6|       9.5|       6.2|         0.01|    84.9|    73.4|   true|    true|   false|   false|      false|       true|\n",
      "|72201012836|KEY WEST INTERNAT...|2021-06-23|  -81.7554|  24.5571|     84.7|      10.0|       3.8|          0.0|    91.0|    79.0|  false|    true|   false|   false|       true|       true|\n",
      "|72201012836|KEY WEST INTERNAT...|2021-08-04|  -81.7554|  24.5571|     85.7|       9.7|       6.2|          0.0|    89.1|    80.1|  false|    true|   false|   false|       true|       true|\n",
      "+-----------+--------------------+----------+----------+---------+---------+----------+----------+-------------+--------+--------+-------+--------+--------+--------+-----------+-----------+\n",
      "only showing top 20 rows"
     ]
    }
   ],
   "source": [
    "# And just to verify...let's look at some tornado days\n",
    "dfSlim.where(\"has_tornado==true\").show()"
   ]
  },
  {
   "cell_type": "markdown",
   "id": "ac49ee54",
   "metadata": {},
   "source": [
    "Great, this dataframe looks promising! Let's write it back out to S3."
   ]
  },
  {
   "cell_type": "code",
   "execution_count": 11,
   "id": "b1bbf798",
   "metadata": {},
   "outputs": [
    {
     "data": {
      "application/vnd.jupyter.widget-view+json": {
       "model_id": "2414291825724ac9838ad1ef13cfb997",
       "version_major": 2,
       "version_minor": 0
      },
      "text/plain": [
       "VBox()"
      ]
     },
     "metadata": {},
     "output_type": "display_data"
    },
    {
     "data": {
      "application/vnd.jupyter.widget-view+json": {
       "model_id": "",
       "version_major": 2,
       "version_minor": 0
      },
      "text/plain": [
       "FloatProgress(value=0.0, bar_style='info', description='Progress:', layout=Layout(height='25px', width='50%'),…"
      ]
     },
     "metadata": {},
     "output_type": "display_data"
    },
    {
     "name": "stdout",
     "output_type": "stream",
     "text": [
      "Finished writing weather data out to:  s3://emr-dev-exp-068216289992/weather_data/year=2021/"
     ]
    }
   ],
   "source": [
    "output_prefix = f\"s3://{OUTPUT_BUCKET}/weather_data/year={year}/\"\n",
    "\n",
    "df_with_year_and_month = dfSlim \\\n",
    "    .withColumn(\"year\", dfSlim.date.substr(1,4))\n",
    "\n",
    "# Normally, we wouldn't repartition all the way to 1 because that forces all the data through one executor.\n",
    "# However, in the case of this data, when converted to Parquet and compressed, the resulting file is only 22MB.\n",
    "df_with_year_and_month \\\n",
    "    .repartition(1) \\\n",
    "    .write \\\n",
    "    .mode(\"overwrite\") \\\n",
    "    .format(\"parquet\") \\\n",
    "    .save(output_prefix)\n",
    "\n",
    "print(\"Finished writing weather data out to: \", output_prefix)"
   ]
  },
  {
   "cell_type": "markdown",
   "id": "7064a928",
   "metadata": {},
   "source": [
    "Fantastic! In our [next notebook](02_data-analysis.ipynb), we're going to do some simple data analysis of the resulting data.\n",
    "\n",
    "In this way, we're separating our data processing (ETL) vs. data analysis. And with EMR, we can now execute this notebook with different parameters.\n",
    "\n",
    "## (Optional) Programmatic Notebook Execution\n",
    "\n",
    "With EMR Studio, it's possible to [orchestrate your analytics jobs](https://aws.amazon.com/blogs/big-data/orchestrating-analytics-jobs-by-running-amazon-emr-notebooks-programmatically/) by using the `start-notebook-execution` API.\n",
    "\n",
    "In order to do this, you'll need a few pieces of information:\n",
    "- Cluster ID: This can be found on the top right of the notebook when you hover over \"Cluster attached\" and starts with `j-`.\n",
    "- Workspace ID: This can be found in the URL and starts with `e-`. **Use the ALL CAPS version.**\n",
    "\n",
    "You can also navigate back to your EMR Studio Workspaces list, change the settings and include **Id** and **Cluster**.\n",
    "\n",
    "Once you have those values, start a new [AWS CloudShell](https://console.aws.amazon.com/cloudshell/home) and execute the following command with the `<WORKSPACE_ID>` and `<EMR_CLUSTER_ID>` replaced. This will run the provided EMR notebook on the referenced Cluster and convert weather data for the year `2020`.\n",
    "\n",
    "```shell\n",
    "export WORKSPACE_ID=e-ABCDEFGHIJKL123456\n",
    "export EMR_CLUSTER_ID=j-ABCDEFGHIJ123\n",
    "\n",
    "aws emr start-notebook-execution \\\n",
    "    --editor-id ${WORKSPACE_ID} \\\n",
    "    --notebook-params '{\"years_to_process\":\"2020\"}' \\\n",
    "    --relative-path /01_data-exploration.ipynb \\\n",
    "    --notebook-execution-name weather_2020 \\\n",
    "    --execution-engine '{\"Id\": \"'${EMR_CLUSTER_ID}'\"}' \\\n",
    "    --service-role EMRDevExp-NotebookExecutionRole\n",
    "```\n",
    "\n",
    "You'll reeive a notebook execution ID and you can use `aws emr describe-notebook-execution` to monitor the status of the notebook.\n",
    "\n",
    "```json\n",
    "{\n",
    "    \"NotebookExecutionId\": \"ex-ABCDEFGHIJKLMNOPQRS1234567890\"\n",
    "}\n",
    "```\n",
    "\n",
    "```shell\n",
    "aws emr describe-notebook-execution \\\n",
    "    --notebook-execution-id ex-ABCDEFGHIJKLMNOPQRS1234567890\n",
    "```\n",
    "\n",
    "Once the execution reaches the `FINISHED` status, you should see new weather data in your S3 bucket.\n",
    "\n",
    "```shell\n",
    "aws s3 ls s3://emr-dev-exp-568026268536/weather_data/\n",
    "```"
   ]
  }
 ],
 "metadata": {
  "kernelspec": {
   "display_name": "PySpark",
   "language": "",
   "name": "pysparkkernel"
  },
  "language_info": {
   "codemirror_mode": {
    "name": "python",
    "version": 3
   },
   "mimetype": "text/x-python",
   "name": "pyspark",
   "pygments_lexer": "python3"
  }
 },
 "nbformat": 4,
 "nbformat_minor": 5
}
